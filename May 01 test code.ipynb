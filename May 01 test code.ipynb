{
  "nbformat": 4,
  "nbformat_minor": 0,
  "metadata": {
    "colab": {
      "provenance": [],
      "authorship_tag": "ABX9TyM9Bf06mB403aI2/t8DHXNi",
      "include_colab_link": true
    },
    "kernelspec": {
      "name": "python3",
      "display_name": "Python 3"
    },
    "language_info": {
      "name": "python"
    }
  },
  "cells": [
    {
      "cell_type": "markdown",
      "metadata": {
        "id": "view-in-github",
        "colab_type": "text"
      },
      "source": [
        "<a href=\"https://colab.research.google.com/github/Aravindhmani/ssh/blob/master/May%2001%20test%20code.ipynb\" target=\"_parent\"><img src=\"https://colab.research.google.com/assets/colab-badge.svg\" alt=\"Open In Colab\"/></a>"
      ]
    },
    {
      "cell_type": "code",
      "execution_count": 9,
      "metadata": {
        "colab": {
          "base_uri": "https://localhost:8080/"
        },
        "id": "L-cGamU4beQP",
        "outputId": "16b87877-1739-439b-a559-7963de13f88b"
      },
      "outputs": [
        {
          "output_type": "stream",
          "name": "stdout",
          "text": [
            "[1 2 3 4 5 6]\n",
            "6\n",
            "<class 'numpy.ndarray'>\n",
            "1\n",
            "(6,)\n"
          ]
        }
      ],
      "source": [
        "import numpy as np\n",
        "\n",
        "mylist = [1,2,3,4,5,6]\n",
        "\n",
        "samplearray = np.array(mylist , dtype=int)\n",
        "print(samplearray)\n",
        "\n",
        "print(len(samplearray))\n",
        "print(type(samplearray))\n",
        "print(samplearray.ndim)\n",
        "print(samplearray.shape)\n",
        "\n"
      ]
    },
    {
      "cell_type": "code",
      "source": [
        "samplearray1 = samplearray.reshape(3,-1)\n",
        "print(samplearray1)\n",
        "samplearray1.shape"
      ],
      "metadata": {
        "colab": {
          "base_uri": "https://localhost:8080/"
        },
        "id": "mCCY9MgZdOQh",
        "outputId": "384b483e-926a-4eec-bf5b-83fb12a60666"
      },
      "execution_count": 12,
      "outputs": [
        {
          "output_type": "stream",
          "name": "stdout",
          "text": [
            "[[1 2]\n",
            " [3 4]\n",
            " [5 6]]\n"
          ]
        },
        {
          "output_type": "execute_result",
          "data": {
            "text/plain": [
              "(3, 2)"
            ]
          },
          "metadata": {},
          "execution_count": 12
        }
      ]
    },
    {
      "cell_type": "code",
      "source": [
        "samplearray2 = samplearray.reshape(3,-1)\n",
        "print(samplearray2)\n",
        "\n",
        "samplearray2.ndim"
      ],
      "metadata": {
        "colab": {
          "base_uri": "https://localhost:8080/"
        },
        "id": "8UCbML4od4dj",
        "outputId": "5dd8afea-0560-42fd-997b-c782a471b867"
      },
      "execution_count": 14,
      "outputs": [
        {
          "output_type": "stream",
          "name": "stdout",
          "text": [
            "[[1 2]\n",
            " [3 4]\n",
            " [5 6]]\n"
          ]
        },
        {
          "output_type": "execute_result",
          "data": {
            "text/plain": [
              "2"
            ]
          },
          "metadata": {},
          "execution_count": 14
        }
      ]
    },
    {
      "cell_type": "code",
      "source": [
        "my_list1 = [1,2,3,4,5,6]\n",
        "my_list2 = [7,8,9,10,11,12]\n",
        "my_list3 = [13,14,15,16,17,18]\n",
        "\n",
        "mul_array = np.array([my_list1,my_list2,my_list3])\n",
        "print(mul_array)\n",
        "\n",
        "print(mul_array.ndim)\n",
        "print(mul_array.shape)\n",
        "\n",
        "mul_array.reshape()"
      ],
      "metadata": {
        "colab": {
          "base_uri": "https://localhost:8080/"
        },
        "id": "jibn-tSQecUW",
        "outputId": "24c64fba-f83f-4ea6-cc1c-5bae0ba5d156"
      },
      "execution_count": 23,
      "outputs": [
        {
          "output_type": "stream",
          "name": "stdout",
          "text": [
            "[[ 1  2  3  4  5  6]\n",
            " [ 7  8  9 10 11 12]\n",
            " [13 14 15 16 17 18]]\n",
            "2\n",
            "(3, 6)\n"
          ]
        },
        {
          "output_type": "execute_result",
          "data": {
            "text/plain": [
              "array([[ 1,  2,  3,  4,  5,  6,  7,  8,  9],\n",
              "       [10, 11, 12, 13, 14, 15, 16, 17, 18]])"
            ]
          },
          "metadata": {},
          "execution_count": 23
        }
      ]
    },
    {
      "cell_type": "code",
      "source": [
        "arr=range(12)\n",
        "print(arr)"
      ],
      "metadata": {
        "colab": {
          "base_uri": "https://localhost:8080/"
        },
        "id": "qy4oes0UgRGb",
        "outputId": "ee976b3f-ba2e-4de5-de25-6eb71fa9b94b"
      },
      "execution_count": 26,
      "outputs": [
        {
          "output_type": "stream",
          "name": "stdout",
          "text": [
            "range(0, 12)\n"
          ]
        }
      ]
    },
    {
      "cell_type": "code",
      "source": [
        "newarr=np.arange(1,13,1)\n",
        "print(newarr)\n",
        "newarr.ndim\n"
      ],
      "metadata": {
        "colab": {
          "base_uri": "https://localhost:8080/"
        },
        "id": "3V5OtpMage8F",
        "outputId": "1224413e-adfb-4320-9f1a-8957223b4d94"
      },
      "execution_count": 36,
      "outputs": [
        {
          "output_type": "stream",
          "name": "stdout",
          "text": [
            "[ 1  2  3  4  5  6  7  8  9 10 11 12]\n"
          ]
        },
        {
          "output_type": "execute_result",
          "data": {
            "text/plain": [
              "1"
            ]
          },
          "metadata": {},
          "execution_count": 36
        }
      ]
    },
    {
      "cell_type": "code",
      "source": [
        "\n",
        "newarr1 = newarr.reshape(3,4)\n",
        "print(newarr1)\n",
        "newarr1.ndim"
      ],
      "metadata": {
        "colab": {
          "base_uri": "https://localhost:8080/"
        },
        "id": "rAs5g3YChWE1",
        "outputId": "b657a5ee-e59a-4bdb-e088-84ba5ec9b297"
      },
      "execution_count": 39,
      "outputs": [
        {
          "output_type": "stream",
          "name": "stdout",
          "text": [
            "[[ 1  2  3  4]\n",
            " [ 5  6  7  8]\n",
            " [ 9 10 11 12]]\n"
          ]
        },
        {
          "output_type": "execute_result",
          "data": {
            "text/plain": [
              "2"
            ]
          },
          "metadata": {},
          "execution_count": 39
        }
      ]
    },
    {
      "cell_type": "code",
      "source": [
        "x=np.array([[1,3],[4,5]],dtype=np.float64)\n",
        "y=np.array([[6,7],[8,9]],dtype=np.float64)\n",
        "print(x)\n",
        "print(y)\n",
        "\n",
        "print(x+y)\n",
        "print(np.add(x,y))"
      ],
      "metadata": {
        "colab": {
          "base_uri": "https://localhost:8080/"
        },
        "id": "MDA9fhfChyHi",
        "outputId": "1109532f-117d-4972-f9b2-ba782db93f0d"
      },
      "execution_count": 44,
      "outputs": [
        {
          "output_type": "stream",
          "name": "stdout",
          "text": [
            "[[1. 3.]\n",
            " [4. 5.]]\n",
            "[[6. 7.]\n",
            " [8. 9.]]\n",
            "[[ 7. 10.]\n",
            " [12. 14.]]\n",
            "[[ 7. 10.]\n",
            " [12. 14.]]\n"
          ]
        }
      ]
    },
    {
      "cell_type": "code",
      "source": [
        "print(np.subtract(x,y))"
      ],
      "metadata": {
        "colab": {
          "base_uri": "https://localhost:8080/"
        },
        "id": "tjJh3v87ikMl",
        "outputId": "c3615564-3671-4564-e3ec-42c46facacbe"
      },
      "execution_count": 45,
      "outputs": [
        {
          "output_type": "stream",
          "name": "stdout",
          "text": [
            "[[-5. -4.]\n",
            " [-4. -4.]]\n"
          ]
        }
      ]
    },
    {
      "cell_type": "code",
      "source": [
        "print(np.multiply(x,y))\n",
        "print(x*y)"
      ],
      "metadata": {
        "colab": {
          "base_uri": "https://localhost:8080/"
        },
        "id": "When1ZnnjBxy",
        "outputId": "9f50f2bc-c1c0-4e6f-a82a-3334314a1f3a"
      },
      "execution_count": 47,
      "outputs": [
        {
          "output_type": "stream",
          "name": "stdout",
          "text": [
            "[[ 6. 21.]\n",
            " [32. 45.]]\n",
            "[[ 6. 21.]\n",
            " [32. 45.]]\n"
          ]
        }
      ]
    },
    {
      "cell_type": "code",
      "source": [
        "print(np.dot(x,y))"
      ],
      "metadata": {
        "colab": {
          "base_uri": "https://localhost:8080/"
        },
        "id": "OTC5Qz4SjJs2",
        "outputId": "801871c3-84b1-47ab-8f83-d5b3a84b9a69"
      },
      "execution_count": 48,
      "outputs": [
        {
          "output_type": "stream",
          "name": "stdout",
          "text": [
            "[[30. 34.]\n",
            " [64. 73.]]\n"
          ]
        }
      ]
    },
    {
      "cell_type": "code",
      "source": [
        "print(np.sum(x))\n",
        "print(np.sum(x,axis=0))\n",
        "print(np.sum(x,axis=1))"
      ],
      "metadata": {
        "colab": {
          "base_uri": "https://localhost:8080/"
        },
        "id": "xCBi2IWTjqOB",
        "outputId": "55969293-f760-4c25-947c-2e96ee11c003"
      },
      "execution_count": 50,
      "outputs": [
        {
          "output_type": "stream",
          "name": "stdout",
          "text": [
            "13.0\n",
            "[5. 8.]\n",
            "[4. 9.]\n"
          ]
        }
      ]
    }
  ]
}